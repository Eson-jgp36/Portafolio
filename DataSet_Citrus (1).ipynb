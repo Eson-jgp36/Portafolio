{
  "nbformat": 4,
  "nbformat_minor": 0,
  "metadata": {
    "colab": {
      "provenance": []
    },
    "kernelspec": {
      "name": "python3",
      "display_name": "Python 3"
    },
    "language_info": {
      "name": "python"
    }
  },
  "cells": [
    {
      "cell_type": "code",
      "execution_count": 1,
      "metadata": {
        "id": "gVkb-DeHgap6"
      },
      "outputs": [],
      "source": [
        "import numpy as np"
      ]
    },
    {
      "cell_type": "markdown",
      "source": [
        "# cargar los datos desde URL"
      ],
      "metadata": {
        "id": "xxNf3JY0h3q9"
      }
    },
    {
      "cell_type": "code",
      "source": [
        "url = 'https://gist.githubusercontent.com/ahcamachod/9be09de793dc3bf1e6c3d98eb4e5b1ef/raw/21b85572693200040e11284ef6dcfc3457ec8e11/citrus.csv'"
      ],
      "metadata": {
        "id": "k0AVbRMjguV9"
      },
      "execution_count": 2,
      "outputs": []
    },
    {
      "cell_type": "markdown",
      "source": [],
      "metadata": {
        "id": "n9H3YjvaiDNc"
      }
    },
    {
      "cell_type": "code",
      "source": [
        "ruta = '/content/drive/MyDrive/Colab Notebooks/citrus.csv'"
      ],
      "metadata": {
        "id": "Lv9OjiranUzU"
      },
      "execution_count": 8,
      "outputs": []
    },
    {
      "cell_type": "code",
      "source": [
        "# Se utiliza la función loadtxt,  usecols para omitir la primera columna\n",
        "# y se usa np.arange para crear la secuencia de números que representan las columnas.\n",
        "# Por último, se usa el parámetro skiprows=1 para que la primera línea de texto se omita para leer el archivo.\n",
        "\n",
        "datos = np.loadtxt(url, usecols=np.arange(1, 6), skiprows=1, delimiter=',')\n",
        "datos\n"
      ],
      "metadata": {
        "colab": {
          "base_uri": "https://localhost:8080/"
        },
        "id": "IjHE-YkMrVYS",
        "outputId": "24219714-5184-43fe-8851-55e8be1b807f"
      },
      "execution_count": 7,
      "outputs": [
        {
          "output_type": "execute_result",
          "data": {
            "text/plain": [
              "array([[  2.96,  86.76, 172.  ,  85.  ,   2.  ],\n",
              "       [  3.91,  88.05, 166.  ,  78.  ,   3.  ],\n",
              "       [  4.42,  95.17, 156.  ,  81.  ,   2.  ],\n",
              "       ...,\n",
              "       [ 15.59, 256.5 , 168.  ,  82.  ,  20.  ],\n",
              "       [ 15.92, 260.14, 142.  ,  72.  ,  11.  ],\n",
              "       [ 16.45, 261.51, 152.  ,  74.  ,   2.  ]])"
            ]
          },
          "metadata": {},
          "execution_count": 7
        }
      ]
    },
    {
      "cell_type": "markdown",
      "source": [],
      "metadata": {
        "id": "tuL5LM6xF3Wr"
      }
    },
    {
      "cell_type": "markdown",
      "source": [
        "CREANDO EL ARRAY PARA LAS ALMACENAR LOS DATOS DE LA COMOLUNA DIAMETO Y PESO DEL DATASET"
      ],
      "metadata": {
        "id": "r3nsxesOE3Z4"
      }
    },
    {
      "cell_type": "code",
      "source": [
        "# ARRAY PARA LA COLUMNA DIAMETRO DEL DATASET\n",
        "\n",
        "diametro_array = datos[:, 0]\n",
        "diametro_array"
      ],
      "metadata": {
        "colab": {
          "base_uri": "https://localhost:8080/"
        },
        "id": "uN58XWmAFGoC",
        "outputId": "eda99b50-e1ea-402a-f33b-4c7c0febb7ce"
      },
      "execution_count": 48,
      "outputs": [
        {
          "output_type": "execute_result",
          "data": {
            "text/plain": [
              "array([ 2.96,  3.91,  4.42, ..., 15.59, 15.92, 16.45])"
            ]
          },
          "metadata": {},
          "execution_count": 48
        }
      ]
    },
    {
      "cell_type": "code",
      "source": [
        "# ARRAY PARA LA COLUMNA PESO DEL DATASET\n",
        "\n",
        "peso_array = datos[:, 1]\n",
        "peso_array"
      ],
      "metadata": {
        "colab": {
          "base_uri": "https://localhost:8080/"
        },
        "id": "RzRfwnG5Fdg6",
        "outputId": "e47636d4-b4e4-453d-d8c5-9cf4717c4c55"
      },
      "execution_count": 49,
      "outputs": [
        {
          "output_type": "execute_result",
          "data": {
            "text/plain": [
              "array([ 86.76,  88.05,  95.17, ..., 256.5 , 260.14, 261.51])"
            ]
          },
          "metadata": {},
          "execution_count": 49
        }
      ]
    },
    {
      "cell_type": "code",
      "source": [
        "# array del diametro para las naranjas que van hasta fila 4999\n",
        "\n",
        "diametro_naranjas = diametro_array[:5000]\n",
        "diametro_naranjas\n"
      ],
      "metadata": {
        "colab": {
          "base_uri": "https://localhost:8080/"
        },
        "id": "N6GYP74dHL6Q",
        "outputId": "00fcdb06-bdca-4d40-8d53-45c5694dc8b7"
      },
      "execution_count": 61,
      "outputs": [
        {
          "output_type": "execute_result",
          "data": {
            "text/plain": [
              "array([ 2.96,  3.91,  4.42, ..., 12.55, 12.75, 12.87])"
            ]
          },
          "metadata": {},
          "execution_count": 61
        }
      ]
    },
    {
      "cell_type": "code",
      "source": [
        "# VERIFICAMOS EL TOTAL DE FILAS DEL ARRAY DIAMETRO DE NARANJAS\n",
        "\n",
        "print(len(diametro_naranjas))"
      ],
      "metadata": {
        "colab": {
          "base_uri": "https://localhost:8080/"
        },
        "id": "WMaLHOUDJ9Zj",
        "outputId": "da89f125-83ab-4a1c-8b3a-7b06482fb712"
      },
      "execution_count": 62,
      "outputs": [
        {
          "output_type": "stream",
          "name": "stdout",
          "text": [
            "5000\n"
          ]
        }
      ]
    },
    {
      "cell_type": "code",
      "source": [
        "# Array del diametro para las Toronjas que van desee la fila 5000\n",
        "\n",
        "diametro_toronjas = diametro_array[5000:]\n",
        "diametro_toronjas"
      ],
      "metadata": {
        "colab": {
          "base_uri": "https://localhost:8080/"
        },
        "id": "7Xi75T5AI73R",
        "outputId": "ea8d351c-8da0-4fe7-b318-dfaee1f6a2d1"
      },
      "execution_count": 60,
      "outputs": [
        {
          "output_type": "execute_result",
          "data": {
            "text/plain": [
              "array([ 7.63,  7.69,  7.72, ..., 15.59, 15.92, 16.45])"
            ]
          },
          "metadata": {},
          "execution_count": 60
        }
      ]
    },
    {
      "cell_type": "code",
      "source": [
        "# VERIFICAMOS EL TOTAL DE FILAS DEL ARRAY DIAMETRO DE TORONJAS\n",
        "\n",
        "print(len(diametro_toronjas))"
      ],
      "metadata": {
        "colab": {
          "base_uri": "https://localhost:8080/"
        },
        "id": "avu5CnkQKlz_",
        "outputId": "a4cf2e76-fc38-44f6-974e-ac5fbf94fdfc"
      },
      "execution_count": 63,
      "outputs": [
        {
          "output_type": "stream",
          "name": "stdout",
          "text": [
            "5000\n"
          ]
        }
      ]
    },
    {
      "cell_type": "code",
      "source": [
        "# Array del Peso para las naranjas que van hasta fila 4999\n",
        "\n",
        "peso_naranjas = peso_array[:5000]\n",
        "peso_naranjas"
      ],
      "metadata": {
        "colab": {
          "base_uri": "https://localhost:8080/"
        },
        "id": "EwHbnLNjLXbq",
        "outputId": "04689a27-529e-46b1-c573-bd3da1cccd6c"
      },
      "execution_count": 64,
      "outputs": [
        {
          "output_type": "execute_result",
          "data": {
            "text/plain": [
              "array([ 86.76,  88.05,  95.17, ..., 218.07, 230.13, 231.09])"
            ]
          },
          "metadata": {},
          "execution_count": 64
        }
      ]
    },
    {
      "cell_type": "code",
      "source": [
        "# Array del Peso para las Toronjas que van desee la fila 5000\n",
        "\n",
        "peso_toronjas = peso_array[5000:]\n",
        "peso_toronjas"
      ],
      "metadata": {
        "colab": {
          "base_uri": "https://localhost:8080/"
        },
        "id": "9oRc9r2qL8Cq",
        "outputId": "717a0be3-1d95-4f8d-ac91-f3afefd8338d"
      },
      "execution_count": 65,
      "outputs": [
        {
          "output_type": "execute_result",
          "data": {
            "text/plain": [
              "array([126.79, 133.98, 135.56, ..., 256.5 , 260.14, 261.51])"
            ]
          },
          "metadata": {},
          "execution_count": 65
        }
      ]
    },
    {
      "cell_type": "markdown",
      "source": [
        "# **IMPORTANDO LA BIBLIOTECA MATPROLIB PARA VISUALIZACION DEL GRAFICO**"
      ],
      "metadata": {
        "id": "eB1QCGH7Mh6f"
      }
    },
    {
      "cell_type": "code",
      "source": [
        "import matplotlib.pyplot as plt\n"
      ],
      "metadata": {
        "id": "Ug1kNmNFMVNR"
      },
      "execution_count": 72,
      "outputs": []
    },
    {
      "cell_type": "code",
      "source": [
        "# gráfico para el peso en función del diámetro tanto para las naranjas como para las toronjas.\n",
        "\n",
        "#plt.figure(figsize=(10, 6))\n",
        "plt.plot(diametro_naranjas, peso_naranjas, label='Naranjas', alpha=0.5)\n",
        "plt.plot(diametro_toronjas, peso_toronjas, label='Toronjas', alpha=0.5)\n",
        "plt.xlabel('Diámetro')\n",
        "plt.ylabel('Peso')\n",
        "plt.title('Peso vs Diámetro para Naranjas y Toronjas')\n",
        "plt.legend()\n",
        "plt.grid(True)\n",
        "plt.show()"
      ],
      "metadata": {
        "colab": {
          "base_uri": "https://localhost:8080/",
          "height": 472
        },
        "id": "k3rX7WNoNoJg",
        "outputId": "7bbed1db-64e0-4226-cc36-72f2750a3281"
      },
      "execution_count": 76,
      "outputs": [
        {
          "output_type": "display_data",
          "data": {
            "text/plain": [
              "<Figure size 640x480 with 1 Axes>"
            ],
            "image/png": "[encoded data removed]"
          },
          "metadata": {}
        }
      ]
    }
  ]
}