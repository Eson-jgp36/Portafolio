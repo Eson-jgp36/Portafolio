{
  "cells": [
    {
      "cell_type": "markdown",
      "metadata": {
        "id": "RhEdWd9YUR6H"
      },
      "source": [
        "### Importación de datos\n",
        "\n"
      ]
    },
    {
      "cell_type": "code",
      "execution_count": 1,
      "metadata": {
        "colab": {
          "base_uri": "https://localhost:8080/",
          "height": 206
        },
        "id": "T3EvaeQ_INIL",
        "outputId": "d5be8955-ae4e-4e69-c08f-4d99ee7b2fa7"
      },
      "outputs": [
        {
          "data": {
            "text/html": [
              "<div>\n",
              "<style scoped>\n",
              "    .dataframe tbody tr th:only-of-type {\n",
              "        vertical-align: middle;\n",
              "    }\n",
              "\n",
              "    .dataframe tbody tr th {\n",
              "        vertical-align: top;\n",
              "    }\n",
              "\n",
              "    .dataframe thead th {\n",
              "        text-align: right;\n",
              "    }\n",
              "</style>\n",
              "<table border=\"1\" class=\"dataframe\">\n",
              "  <thead>\n",
              "    <tr style=\"text-align: right;\">\n",
              "      <th></th>\n",
              "      <th>Producto</th>\n",
              "      <th>Categoría del Producto</th>\n",
              "      <th>Precio</th>\n",
              "      <th>Costo de envío</th>\n",
              "      <th>Fecha de Compra</th>\n",
              "      <th>Vendedor</th>\n",
              "      <th>Lugar de Compra</th>\n",
              "      <th>Calificación</th>\n",
              "      <th>Método de pago</th>\n",
              "      <th>Cantidad de cuotas</th>\n",
              "      <th>lat</th>\n",
              "      <th>lon</th>\n",
              "    </tr>\n",
              "  </thead>\n",
              "  <tbody>\n",
              "    <tr>\n",
              "      <th>0</th>\n",
              "      <td>Asistente virtual</td>\n",
              "      <td>Electrónicos</td>\n",
              "      <td>164300.0</td>\n",
              "      <td>6900.0</td>\n",
              "      <td>16/01/2021</td>\n",
              "      <td>Pedro Gomez</td>\n",
              "      <td>Bogotá</td>\n",
              "      <td>4</td>\n",
              "      <td>Tarjeta de crédito</td>\n",
              "      <td>8</td>\n",
              "      <td>4.60971</td>\n",
              "      <td>-74.08175</td>\n",
              "    </tr>\n",
              "    <tr>\n",
              "      <th>1</th>\n",
              "      <td>Mesa de comedor</td>\n",
              "      <td>Muebles</td>\n",
              "      <td>192300.0</td>\n",
              "      <td>8400.0</td>\n",
              "      <td>18/05/2022</td>\n",
              "      <td>Beatriz Morales</td>\n",
              "      <td>Medellín</td>\n",
              "      <td>1</td>\n",
              "      <td>Tarjeta de crédito</td>\n",
              "      <td>4</td>\n",
              "      <td>6.25184</td>\n",
              "      <td>-75.56359</td>\n",
              "    </tr>\n",
              "    <tr>\n",
              "      <th>2</th>\n",
              "      <td>Juego de mesa</td>\n",
              "      <td>Juguetes</td>\n",
              "      <td>209600.0</td>\n",
              "      <td>15900.0</td>\n",
              "      <td>15/03/2021</td>\n",
              "      <td>Juan Fernandez</td>\n",
              "      <td>Cartagena</td>\n",
              "      <td>1</td>\n",
              "      <td>Tarjeta de crédito</td>\n",
              "      <td>1</td>\n",
              "      <td>10.39972</td>\n",
              "      <td>-75.51444</td>\n",
              "    </tr>\n",
              "    <tr>\n",
              "      <th>3</th>\n",
              "      <td>Microondas</td>\n",
              "      <td>Electrodomésticos</td>\n",
              "      <td>757500.0</td>\n",
              "      <td>41000.0</td>\n",
              "      <td>03/05/2022</td>\n",
              "      <td>Juan Fernandez</td>\n",
              "      <td>Cali</td>\n",
              "      <td>4</td>\n",
              "      <td>Nequi</td>\n",
              "      <td>1</td>\n",
              "      <td>3.43722</td>\n",
              "      <td>-76.52250</td>\n",
              "    </tr>\n",
              "    <tr>\n",
              "      <th>4</th>\n",
              "      <td>Silla de oficina</td>\n",
              "      <td>Muebles</td>\n",
              "      <td>335200.0</td>\n",
              "      <td>20200.0</td>\n",
              "      <td>07/11/2020</td>\n",
              "      <td>Maria Alfonso</td>\n",
              "      <td>Medellín</td>\n",
              "      <td>5</td>\n",
              "      <td>Nequi</td>\n",
              "      <td>1</td>\n",
              "      <td>6.25184</td>\n",
              "      <td>-75.56359</td>\n",
              "    </tr>\n",
              "  </tbody>\n",
              "</table>\n",
              "</div>"
            ],
            "text/plain": [
              "            Producto Categoría del Producto    Precio  Costo de envío  \\\n",
              "0  Asistente virtual           Electrónicos  164300.0          6900.0   \n",
              "1    Mesa de comedor                Muebles  192300.0          8400.0   \n",
              "2      Juego de mesa               Juguetes  209600.0         15900.0   \n",
              "3         Microondas      Electrodomésticos  757500.0         41000.0   \n",
              "4   Silla de oficina                Muebles  335200.0         20200.0   \n",
              "\n",
              "  Fecha de Compra         Vendedor Lugar de Compra  Calificación  \\\n",
              "0      16/01/2021      Pedro Gomez          Bogotá             4   \n",
              "1      18/05/2022  Beatriz Morales        Medellín             1   \n",
              "2      15/03/2021   Juan Fernandez       Cartagena             1   \n",
              "3      03/05/2022   Juan Fernandez            Cali             4   \n",
              "4      07/11/2020    Maria Alfonso        Medellín             5   \n",
              "\n",
              "       Método de pago  Cantidad de cuotas       lat       lon  \n",
              "0  Tarjeta de crédito                   8   4.60971 -74.08175  \n",
              "1  Tarjeta de crédito                   4   6.25184 -75.56359  \n",
              "2  Tarjeta de crédito                   1  10.39972 -75.51444  \n",
              "3               Nequi                   1   3.43722 -76.52250  \n",
              "4               Nequi                   1   6.25184 -75.56359  "
            ]
          },
          "execution_count": 1,
          "metadata": {},
          "output_type": "execute_result"
        }
      ],
      "source": [
        "import pandas as pd\n",
        "\n",
        "url = \"https://raw.githubusercontent.com/alura-es-cursos/challenge1-data-science-latam/refs/heads/main/base-de-datos-challenge1-latam/tienda_1%20.csv\"\n",
        "url2 = \"https://raw.githubusercontent.com/alura-es-cursos/challenge1-data-science-latam/refs/heads/main/base-de-datos-challenge1-latam/tienda_2.csv\"\n",
        "url3 = \"https://raw.githubusercontent.com/alura-es-cursos/challenge1-data-science-latam/refs/heads/main/base-de-datos-challenge1-latam/tienda_3.csv\"\n",
        "url4 = \"https://raw.githubusercontent.com/alura-es-cursos/challenge1-data-science-latam/refs/heads/main/base-de-datos-challenge1-latam/tienda_4.csv\"\n",
        "\n",
        "tienda = pd.read_csv(url)\n",
        "tienda2 = pd.read_csv(url2)\n",
        "tienda3 = pd.read_csv(url3)\n",
        "tienda4 = pd.read_csv(url4)\n",
        "\n",
        "tienda.head()"
      ]
    },
    {
      "cell_type": "code",
      "execution_count": 2,
      "metadata": {
        "colab": {
          "base_uri": "https://localhost:8080/"
        },
        "id": "cLnZTCN9-JvX",
        "outputId": "514e0a0d-aaba-4a9f-d2d6-c175446cf006"
      },
      "outputs": [
        {
          "name": "stdout",
          "output_type": "stream",
          "text": [
            "El total de facturación de la tienda 1 es: 1150880400.0\n"
          ]
        }
      ],
      "source": [
        "# facturación total de la tienda\n",
        "\n",
        "total_facturado = tienda['Precio'].sum()\n",
        "print(\"El total de facturación de la tienda 1 es:\", total_facturado )\n"
      ]
    },
    {
      "cell_type": "code",
      "execution_count": 3,
      "metadata": {
        "colab": {
          "base_uri": "https://localhost:8080/",
          "height": 424
        },
        "id": "t7b5wLmrAZsY",
        "outputId": "921e9bdd-826f-4aa5-def8-bc806396ff47"
      },
      "outputs": [
        {
          "data": {
            "text/html": [
              "<div>\n",
              "<style scoped>\n",
              "    .dataframe tbody tr th:only-of-type {\n",
              "        vertical-align: middle;\n",
              "    }\n",
              "\n",
              "    .dataframe tbody tr th {\n",
              "        vertical-align: top;\n",
              "    }\n",
              "\n",
              "    .dataframe thead th {\n",
              "        text-align: right;\n",
              "    }\n",
              "</style>\n",
              "<table border=\"1\" class=\"dataframe\">\n",
              "  <thead>\n",
              "    <tr style=\"text-align: right;\">\n",
              "      <th></th>\n",
              "      <th>Producto</th>\n",
              "      <th>Categoría del Producto</th>\n",
              "      <th>Precio</th>\n",
              "      <th>Costo de envío</th>\n",
              "      <th>Fecha de Compra</th>\n",
              "      <th>Vendedor</th>\n",
              "      <th>Lugar de Compra</th>\n",
              "      <th>Calificación</th>\n",
              "      <th>Método de pago</th>\n",
              "      <th>Cantidad de cuotas</th>\n",
              "      <th>lat</th>\n",
              "      <th>lon</th>\n",
              "    </tr>\n",
              "  </thead>\n",
              "  <tbody>\n",
              "    <tr>\n",
              "      <th>0</th>\n",
              "      <td>Silla de oficina</td>\n",
              "      <td>Muebles</td>\n",
              "      <td>283600.0</td>\n",
              "      <td>15300.0</td>\n",
              "      <td>04/08/2021</td>\n",
              "      <td>Izabela de León</td>\n",
              "      <td>Medellín</td>\n",
              "      <td>1</td>\n",
              "      <td>Nequi</td>\n",
              "      <td>1</td>\n",
              "      <td>6.25184</td>\n",
              "      <td>-75.56359</td>\n",
              "    </tr>\n",
              "    <tr>\n",
              "      <th>1</th>\n",
              "      <td>Pandereta</td>\n",
              "      <td>Instrumentos musicales</td>\n",
              "      <td>76800.0</td>\n",
              "      <td>2300.0</td>\n",
              "      <td>26/11/2020</td>\n",
              "      <td>Blanca Ramirez</td>\n",
              "      <td>Medellín</td>\n",
              "      <td>3</td>\n",
              "      <td>Tarjeta de crédito</td>\n",
              "      <td>4</td>\n",
              "      <td>6.25184</td>\n",
              "      <td>-75.56359</td>\n",
              "    </tr>\n",
              "    <tr>\n",
              "      <th>2</th>\n",
              "      <td>Cama king</td>\n",
              "      <td>Muebles</td>\n",
              "      <td>443300.0</td>\n",
              "      <td>23800.0</td>\n",
              "      <td>22/10/2021</td>\n",
              "      <td>Izabela de León</td>\n",
              "      <td>Pereira</td>\n",
              "      <td>5</td>\n",
              "      <td>Tarjeta de crédito</td>\n",
              "      <td>10</td>\n",
              "      <td>4.81333</td>\n",
              "      <td>-75.69611</td>\n",
              "    </tr>\n",
              "    <tr>\n",
              "      <th>3</th>\n",
              "      <td>Cama king</td>\n",
              "      <td>Muebles</td>\n",
              "      <td>906200.0</td>\n",
              "      <td>46400.0</td>\n",
              "      <td>04/05/2022</td>\n",
              "      <td>Maria Alfonso</td>\n",
              "      <td>Cali</td>\n",
              "      <td>5</td>\n",
              "      <td>Tarjeta de crédito</td>\n",
              "      <td>10</td>\n",
              "      <td>3.43722</td>\n",
              "      <td>-76.52250</td>\n",
              "    </tr>\n",
              "    <tr>\n",
              "      <th>4</th>\n",
              "      <td>Silla de oficina</td>\n",
              "      <td>Muebles</td>\n",
              "      <td>397800.0</td>\n",
              "      <td>19400.0</td>\n",
              "      <td>26/02/2022</td>\n",
              "      <td>Lucas Olivera</td>\n",
              "      <td>Bogotá</td>\n",
              "      <td>4</td>\n",
              "      <td>Tarjeta de crédito</td>\n",
              "      <td>3</td>\n",
              "      <td>4.60971</td>\n",
              "      <td>-74.08175</td>\n",
              "    </tr>\n",
              "    <tr>\n",
              "      <th>...</th>\n",
              "      <td>...</td>\n",
              "      <td>...</td>\n",
              "      <td>...</td>\n",
              "      <td>...</td>\n",
              "      <td>...</td>\n",
              "      <td>...</td>\n",
              "      <td>...</td>\n",
              "      <td>...</td>\n",
              "      <td>...</td>\n",
              "      <td>...</td>\n",
              "      <td>...</td>\n",
              "      <td>...</td>\n",
              "    </tr>\n",
              "    <tr>\n",
              "      <th>2354</th>\n",
              "      <td>Set de ollas</td>\n",
              "      <td>Artículos para el hogar</td>\n",
              "      <td>140300.0</td>\n",
              "      <td>8100.0</td>\n",
              "      <td>04/12/2022</td>\n",
              "      <td>Ángel Rodriguez</td>\n",
              "      <td>Barranquilla</td>\n",
              "      <td>5</td>\n",
              "      <td>Tarjeta de crédito</td>\n",
              "      <td>2</td>\n",
              "      <td>10.96854</td>\n",
              "      <td>-74.78132</td>\n",
              "    </tr>\n",
              "    <tr>\n",
              "      <th>2355</th>\n",
              "      <td>Lavadora de ropa</td>\n",
              "      <td>Electrodomésticos</td>\n",
              "      <td>1220100.0</td>\n",
              "      <td>65200.0</td>\n",
              "      <td>09/02/2020</td>\n",
              "      <td>Santiago Silva</td>\n",
              "      <td>Bogotá</td>\n",
              "      <td>4</td>\n",
              "      <td>Tarjeta de crédito</td>\n",
              "      <td>5</td>\n",
              "      <td>4.60971</td>\n",
              "      <td>-74.08175</td>\n",
              "    </tr>\n",
              "    <tr>\n",
              "      <th>2356</th>\n",
              "      <td>Microondas</td>\n",
              "      <td>Electrodomésticos</td>\n",
              "      <td>797900.0</td>\n",
              "      <td>42900.0</td>\n",
              "      <td>27/09/2022</td>\n",
              "      <td>Blanca Ramirez</td>\n",
              "      <td>Bogotá</td>\n",
              "      <td>5</td>\n",
              "      <td>Nequi</td>\n",
              "      <td>1</td>\n",
              "      <td>4.60971</td>\n",
              "      <td>-74.08175</td>\n",
              "    </tr>\n",
              "    <tr>\n",
              "      <th>2357</th>\n",
              "      <td>Iphone 15</td>\n",
              "      <td>Electrónicos</td>\n",
              "      <td>2224300.0</td>\n",
              "      <td>116600.0</td>\n",
              "      <td>21/04/2022</td>\n",
              "      <td>Juan Fernandez</td>\n",
              "      <td>Medellín</td>\n",
              "      <td>5</td>\n",
              "      <td>Tarjeta de crédito</td>\n",
              "      <td>2</td>\n",
              "      <td>6.25184</td>\n",
              "      <td>-75.56359</td>\n",
              "    </tr>\n",
              "    <tr>\n",
              "      <th>2358</th>\n",
              "      <td>Bicicleta</td>\n",
              "      <td>Deportes y diversión</td>\n",
              "      <td>551000.0</td>\n",
              "      <td>27500.0</td>\n",
              "      <td>03/09/2022</td>\n",
              "      <td>Maria Alfonso</td>\n",
              "      <td>Medellín</td>\n",
              "      <td>4</td>\n",
              "      <td>Tarjeta de crédito</td>\n",
              "      <td>1</td>\n",
              "      <td>6.25184</td>\n",
              "      <td>-75.56359</td>\n",
              "    </tr>\n",
              "  </tbody>\n",
              "</table>\n",
              "<p>2359 rows × 12 columns</p>\n",
              "</div>"
            ],
            "text/plain": [
              "              Producto   Categoría del Producto     Precio  Costo de envío  \\\n",
              "0     Silla de oficina                  Muebles   283600.0         15300.0   \n",
              "1            Pandereta   Instrumentos musicales    76800.0          2300.0   \n",
              "2            Cama king                  Muebles   443300.0         23800.0   \n",
              "3            Cama king                  Muebles   906200.0         46400.0   \n",
              "4     Silla de oficina                  Muebles   397800.0         19400.0   \n",
              "...                ...                      ...        ...             ...   \n",
              "2354      Set de ollas  Artículos para el hogar   140300.0          8100.0   \n",
              "2355  Lavadora de ropa        Electrodomésticos  1220100.0         65200.0   \n",
              "2356        Microondas        Electrodomésticos   797900.0         42900.0   \n",
              "2357         Iphone 15             Electrónicos  2224300.0        116600.0   \n",
              "2358         Bicicleta     Deportes y diversión   551000.0         27500.0   \n",
              "\n",
              "     Fecha de Compra         Vendedor Lugar de Compra  Calificación  \\\n",
              "0         04/08/2021  Izabela de León        Medellín             1   \n",
              "1         26/11/2020   Blanca Ramirez        Medellín             3   \n",
              "2         22/10/2021  Izabela de León         Pereira             5   \n",
              "3         04/05/2022    Maria Alfonso            Cali             5   \n",
              "4         26/02/2022    Lucas Olivera          Bogotá             4   \n",
              "...              ...              ...             ...           ...   \n",
              "2354      04/12/2022  Ángel Rodriguez    Barranquilla             5   \n",
              "2355      09/02/2020   Santiago Silva          Bogotá             4   \n",
              "2356      27/09/2022   Blanca Ramirez          Bogotá             5   \n",
              "2357      21/04/2022   Juan Fernandez        Medellín             5   \n",
              "2358      03/09/2022    Maria Alfonso        Medellín             4   \n",
              "\n",
              "          Método de pago  Cantidad de cuotas       lat       lon  \n",
              "0                  Nequi                   1   6.25184 -75.56359  \n",
              "1     Tarjeta de crédito                   4   6.25184 -75.56359  \n",
              "2     Tarjeta de crédito                  10   4.81333 -75.69611  \n",
              "3     Tarjeta de crédito                  10   3.43722 -76.52250  \n",
              "4     Tarjeta de crédito                   3   4.60971 -74.08175  \n",
              "...                  ...                 ...       ...       ...  \n",
              "2354  Tarjeta de crédito                   2  10.96854 -74.78132  \n",
              "2355  Tarjeta de crédito                   5   4.60971 -74.08175  \n",
              "2356               Nequi                   1   4.60971 -74.08175  \n",
              "2357  Tarjeta de crédito                   2   6.25184 -75.56359  \n",
              "2358  Tarjeta de crédito                   1   6.25184 -75.56359  \n",
              "\n",
              "[2359 rows x 12 columns]"
            ]
          },
          "execution_count": 3,
          "metadata": {},
          "output_type": "execute_result"
        }
      ],
      "source": [
        "tienda2"
      ]
    },
    {
      "cell_type": "code",
      "execution_count": 4,
      "metadata": {
        "colab": {
          "base_uri": "https://localhost:8080/",
          "height": 424
        },
        "id": "YT2QrotT9cRF",
        "outputId": "0fb80ce8-8506-4dcf-f121-e121f5571fdb"
      },
      "outputs": [
        {
          "data": {
            "text/html": [
              "<div>\n",
              "<style scoped>\n",
              "    .dataframe tbody tr th:only-of-type {\n",
              "        vertical-align: middle;\n",
              "    }\n",
              "\n",
              "    .dataframe tbody tr th {\n",
              "        vertical-align: top;\n",
              "    }\n",
              "\n",
              "    .dataframe thead th {\n",
              "        text-align: right;\n",
              "    }\n",
              "</style>\n",
              "<table border=\"1\" class=\"dataframe\">\n",
              "  <thead>\n",
              "    <tr style=\"text-align: right;\">\n",
              "      <th></th>\n",
              "      <th>Producto</th>\n",
              "      <th>Categoría del Producto</th>\n",
              "      <th>Precio</th>\n",
              "      <th>Costo de envío</th>\n",
              "      <th>Fecha de Compra</th>\n",
              "      <th>Vendedor</th>\n",
              "      <th>Lugar de Compra</th>\n",
              "      <th>Calificación</th>\n",
              "      <th>Método de pago</th>\n",
              "      <th>Cantidad de cuotas</th>\n",
              "      <th>lat</th>\n",
              "      <th>lon</th>\n",
              "    </tr>\n",
              "  </thead>\n",
              "  <tbody>\n",
              "    <tr>\n",
              "      <th>0</th>\n",
              "      <td>Secadora de ropa</td>\n",
              "      <td>Electrodomésticos</td>\n",
              "      <td>1285100.0</td>\n",
              "      <td>66600.0</td>\n",
              "      <td>17/12/2021</td>\n",
              "      <td>Camila Rivera</td>\n",
              "      <td>Santa Marta</td>\n",
              "      <td>4</td>\n",
              "      <td>Tarjeta de crédito</td>\n",
              "      <td>4</td>\n",
              "      <td>11.24079</td>\n",
              "      <td>-74.19904</td>\n",
              "    </tr>\n",
              "    <tr>\n",
              "      <th>1</th>\n",
              "      <td>Mesa de noche</td>\n",
              "      <td>Muebles</td>\n",
              "      <td>290100.0</td>\n",
              "      <td>13600.0</td>\n",
              "      <td>10/02/2021</td>\n",
              "      <td>Maria Alfonso</td>\n",
              "      <td>Cali</td>\n",
              "      <td>3</td>\n",
              "      <td>Tarjeta de crédito</td>\n",
              "      <td>1</td>\n",
              "      <td>3.43722</td>\n",
              "      <td>-76.52250</td>\n",
              "    </tr>\n",
              "    <tr>\n",
              "      <th>2</th>\n",
              "      <td>Guitarra acústica</td>\n",
              "      <td>Instrumentos musicales</td>\n",
              "      <td>303500.0</td>\n",
              "      <td>17400.0</td>\n",
              "      <td>22/01/2023</td>\n",
              "      <td>Lucas Olivera</td>\n",
              "      <td>Bogotá</td>\n",
              "      <td>5</td>\n",
              "      <td>Tarjeta de crédito</td>\n",
              "      <td>3</td>\n",
              "      <td>4.60971</td>\n",
              "      <td>-74.08175</td>\n",
              "    </tr>\n",
              "    <tr>\n",
              "      <th>3</th>\n",
              "      <td>Balón de voleibol</td>\n",
              "      <td>Deportes y diversión</td>\n",
              "      <td>58800.0</td>\n",
              "      <td>3300.0</td>\n",
              "      <td>22/03/2022</td>\n",
              "      <td>Pedro Gomez</td>\n",
              "      <td>Barranquilla</td>\n",
              "      <td>4</td>\n",
              "      <td>Tarjeta de crédito</td>\n",
              "      <td>6</td>\n",
              "      <td>10.96854</td>\n",
              "      <td>-74.78132</td>\n",
              "    </tr>\n",
              "    <tr>\n",
              "      <th>4</th>\n",
              "      <td>Armario</td>\n",
              "      <td>Muebles</td>\n",
              "      <td>521100.0</td>\n",
              "      <td>25900.0</td>\n",
              "      <td>12/01/2022</td>\n",
              "      <td>Blanca Ramirez</td>\n",
              "      <td>Bogotá</td>\n",
              "      <td>1</td>\n",
              "      <td>Tarjeta de crédito</td>\n",
              "      <td>1</td>\n",
              "      <td>4.60971</td>\n",
              "      <td>-74.08175</td>\n",
              "    </tr>\n",
              "    <tr>\n",
              "      <th>...</th>\n",
              "      <td>...</td>\n",
              "      <td>...</td>\n",
              "      <td>...</td>\n",
              "      <td>...</td>\n",
              "      <td>...</td>\n",
              "      <td>...</td>\n",
              "      <td>...</td>\n",
              "      <td>...</td>\n",
              "      <td>...</td>\n",
              "      <td>...</td>\n",
              "      <td>...</td>\n",
              "      <td>...</td>\n",
              "    </tr>\n",
              "    <tr>\n",
              "      <th>2354</th>\n",
              "      <td>Dashboards con Power BI</td>\n",
              "      <td>Libros</td>\n",
              "      <td>26700.0</td>\n",
              "      <td>2100.0</td>\n",
              "      <td>21/10/2022</td>\n",
              "      <td>Ángel Rodriguez</td>\n",
              "      <td>Bogotá</td>\n",
              "      <td>5</td>\n",
              "      <td>Tarjeta de crédito</td>\n",
              "      <td>1</td>\n",
              "      <td>4.60971</td>\n",
              "      <td>-74.08175</td>\n",
              "    </tr>\n",
              "    <tr>\n",
              "      <th>2355</th>\n",
              "      <td>Dashboards con Power BI</td>\n",
              "      <td>Libros</td>\n",
              "      <td>31800.0</td>\n",
              "      <td>2200.0</td>\n",
              "      <td>23/06/2022</td>\n",
              "      <td>Blanca Ramirez</td>\n",
              "      <td>Pereira</td>\n",
              "      <td>5</td>\n",
              "      <td>Tarjeta de crédito</td>\n",
              "      <td>1</td>\n",
              "      <td>4.81333</td>\n",
              "      <td>-75.69611</td>\n",
              "    </tr>\n",
              "    <tr>\n",
              "      <th>2356</th>\n",
              "      <td>Silla de oficina</td>\n",
              "      <td>Muebles</td>\n",
              "      <td>477100.0</td>\n",
              "      <td>25600.0</td>\n",
              "      <td>19/02/2023</td>\n",
              "      <td>Camila Rivera</td>\n",
              "      <td>Cartagena</td>\n",
              "      <td>5</td>\n",
              "      <td>Tarjeta de crédito</td>\n",
              "      <td>3</td>\n",
              "      <td>10.39972</td>\n",
              "      <td>-75.51444</td>\n",
              "    </tr>\n",
              "    <tr>\n",
              "      <th>2357</th>\n",
              "      <td>Mesa de centro</td>\n",
              "      <td>Muebles</td>\n",
              "      <td>123100.0</td>\n",
              "      <td>4700.0</td>\n",
              "      <td>19/09/2021</td>\n",
              "      <td>Blanca Ramirez</td>\n",
              "      <td>Bogotá</td>\n",
              "      <td>4</td>\n",
              "      <td>Tarjeta de crédito</td>\n",
              "      <td>8</td>\n",
              "      <td>4.60971</td>\n",
              "      <td>-74.08175</td>\n",
              "    </tr>\n",
              "    <tr>\n",
              "      <th>2358</th>\n",
              "      <td>Modelado predictivo</td>\n",
              "      <td>Libros</td>\n",
              "      <td>63400.0</td>\n",
              "      <td>9400.0</td>\n",
              "      <td>24/05/2022</td>\n",
              "      <td>Mariana Herrera</td>\n",
              "      <td>Medellín</td>\n",
              "      <td>5</td>\n",
              "      <td>Tarjeta de crédito</td>\n",
              "      <td>10</td>\n",
              "      <td>6.25184</td>\n",
              "      <td>-75.56359</td>\n",
              "    </tr>\n",
              "  </tbody>\n",
              "</table>\n",
              "<p>2359 rows × 12 columns</p>\n",
              "</div>"
            ],
            "text/plain": [
              "                     Producto  Categoría del Producto     Precio  \\\n",
              "0            Secadora de ropa       Electrodomésticos  1285100.0   \n",
              "1               Mesa de noche                 Muebles   290100.0   \n",
              "2           Guitarra acústica  Instrumentos musicales   303500.0   \n",
              "3           Balón de voleibol    Deportes y diversión    58800.0   \n",
              "4                     Armario                 Muebles   521100.0   \n",
              "...                       ...                     ...        ...   \n",
              "2354  Dashboards con Power BI                  Libros    26700.0   \n",
              "2355  Dashboards con Power BI                  Libros    31800.0   \n",
              "2356         Silla de oficina                 Muebles   477100.0   \n",
              "2357           Mesa de centro                 Muebles   123100.0   \n",
              "2358      Modelado predictivo                  Libros    63400.0   \n",
              "\n",
              "      Costo de envío Fecha de Compra         Vendedor Lugar de Compra  \\\n",
              "0            66600.0      17/12/2021    Camila Rivera     Santa Marta   \n",
              "1            13600.0      10/02/2021    Maria Alfonso            Cali   \n",
              "2            17400.0      22/01/2023    Lucas Olivera          Bogotá   \n",
              "3             3300.0      22/03/2022      Pedro Gomez    Barranquilla   \n",
              "4            25900.0      12/01/2022   Blanca Ramirez          Bogotá   \n",
              "...              ...             ...              ...             ...   \n",
              "2354          2100.0      21/10/2022  Ángel Rodriguez          Bogotá   \n",
              "2355          2200.0      23/06/2022   Blanca Ramirez         Pereira   \n",
              "2356         25600.0      19/02/2023    Camila Rivera       Cartagena   \n",
              "2357          4700.0      19/09/2021   Blanca Ramirez          Bogotá   \n",
              "2358          9400.0      24/05/2022  Mariana Herrera        Medellín   \n",
              "\n",
              "      Calificación      Método de pago  Cantidad de cuotas       lat       lon  \n",
              "0                4  Tarjeta de crédito                   4  11.24079 -74.19904  \n",
              "1                3  Tarjeta de crédito                   1   3.43722 -76.52250  \n",
              "2                5  Tarjeta de crédito                   3   4.60971 -74.08175  \n",
              "3                4  Tarjeta de crédito                   6  10.96854 -74.78132  \n",
              "4                1  Tarjeta de crédito                   1   4.60971 -74.08175  \n",
              "...            ...                 ...                 ...       ...       ...  \n",
              "2354             5  Tarjeta de crédito                   1   4.60971 -74.08175  \n",
              "2355             5  Tarjeta de crédito                   1   4.81333 -75.69611  \n",
              "2356             5  Tarjeta de crédito                   3  10.39972 -75.51444  \n",
              "2357             4  Tarjeta de crédito                   8   4.60971 -74.08175  \n",
              "2358             5  Tarjeta de crédito                  10   6.25184 -75.56359  \n",
              "\n",
              "[2359 rows x 12 columns]"
            ]
          },
          "execution_count": 4,
          "metadata": {},
          "output_type": "execute_result"
        }
      ],
      "source": [
        "tienda3"
      ]
    },
    {
      "cell_type": "code",
      "execution_count": null,
      "metadata": {
        "id": "rjrd5O259ocR"
      },
      "outputs": [],
      "source": []
    },
    {
      "cell_type": "code",
      "execution_count": 5,
      "metadata": {
        "colab": {
          "base_uri": "https://localhost:8080/",
          "height": 424
        },
        "id": "VLCKHtxE9tIF",
        "outputId": "bb50ea6d-afd1-454b-8158-cb6a516d74cc"
      },
      "outputs": [
        {
          "data": {
            "text/html": [
              "<div>\n",
              "<style scoped>\n",
              "    .dataframe tbody tr th:only-of-type {\n",
              "        vertical-align: middle;\n",
              "    }\n",
              "\n",
              "    .dataframe tbody tr th {\n",
              "        vertical-align: top;\n",
              "    }\n",
              "\n",
              "    .dataframe thead th {\n",
              "        text-align: right;\n",
              "    }\n",
              "</style>\n",
              "<table border=\"1\" class=\"dataframe\">\n",
              "  <thead>\n",
              "    <tr style=\"text-align: right;\">\n",
              "      <th></th>\n",
              "      <th>Producto</th>\n",
              "      <th>Categoría del Producto</th>\n",
              "      <th>Precio</th>\n",
              "      <th>Costo de envío</th>\n",
              "      <th>Fecha de Compra</th>\n",
              "      <th>Vendedor</th>\n",
              "      <th>Lugar de Compra</th>\n",
              "      <th>Calificación</th>\n",
              "      <th>Método de pago</th>\n",
              "      <th>Cantidad de cuotas</th>\n",
              "      <th>lat</th>\n",
              "      <th>lon</th>\n",
              "    </tr>\n",
              "  </thead>\n",
              "  <tbody>\n",
              "    <tr>\n",
              "      <th>0</th>\n",
              "      <td>Lavavajillas</td>\n",
              "      <td>Electrodomésticos</td>\n",
              "      <td>1084800.0</td>\n",
              "      <td>56000.0</td>\n",
              "      <td>11/11/2022</td>\n",
              "      <td>Rafael Acosta</td>\n",
              "      <td>Bogotá</td>\n",
              "      <td>4</td>\n",
              "      <td>Tarjeta de crédito</td>\n",
              "      <td>3</td>\n",
              "      <td>4.60971</td>\n",
              "      <td>-74.08175</td>\n",
              "    </tr>\n",
              "    <tr>\n",
              "      <th>1</th>\n",
              "      <td>Cama box</td>\n",
              "      <td>Muebles</td>\n",
              "      <td>473800.0</td>\n",
              "      <td>25400.0</td>\n",
              "      <td>03/01/2020</td>\n",
              "      <td>Izabela de León</td>\n",
              "      <td>Cúcuta</td>\n",
              "      <td>5</td>\n",
              "      <td>Tarjeta de crédito</td>\n",
              "      <td>2</td>\n",
              "      <td>7.89391</td>\n",
              "      <td>-72.50782</td>\n",
              "    </tr>\n",
              "    <tr>\n",
              "      <th>2</th>\n",
              "      <td>Balón de baloncesto</td>\n",
              "      <td>Deportes y diversión</td>\n",
              "      <td>23700.0</td>\n",
              "      <td>0.0</td>\n",
              "      <td>25/12/2022</td>\n",
              "      <td>Maria Alfonso</td>\n",
              "      <td>Medellín</td>\n",
              "      <td>5</td>\n",
              "      <td>Nequi</td>\n",
              "      <td>1</td>\n",
              "      <td>6.25184</td>\n",
              "      <td>-75.56359</td>\n",
              "    </tr>\n",
              "    <tr>\n",
              "      <th>3</th>\n",
              "      <td>Modelado predictivo</td>\n",
              "      <td>Libros</td>\n",
              "      <td>57700.0</td>\n",
              "      <td>1300.0</td>\n",
              "      <td>23/11/2021</td>\n",
              "      <td>Lucas Olivera</td>\n",
              "      <td>Medellín</td>\n",
              "      <td>3</td>\n",
              "      <td>Nequi</td>\n",
              "      <td>1</td>\n",
              "      <td>6.25184</td>\n",
              "      <td>-75.56359</td>\n",
              "    </tr>\n",
              "    <tr>\n",
              "      <th>4</th>\n",
              "      <td>Auriculares</td>\n",
              "      <td>Electrónicos</td>\n",
              "      <td>138900.0</td>\n",
              "      <td>5600.0</td>\n",
              "      <td>25/04/2022</td>\n",
              "      <td>Blanca Ramirez</td>\n",
              "      <td>Bogotá</td>\n",
              "      <td>4</td>\n",
              "      <td>Tarjeta de crédito</td>\n",
              "      <td>7</td>\n",
              "      <td>4.60971</td>\n",
              "      <td>-74.08175</td>\n",
              "    </tr>\n",
              "    <tr>\n",
              "      <th>...</th>\n",
              "      <td>...</td>\n",
              "      <td>...</td>\n",
              "      <td>...</td>\n",
              "      <td>...</td>\n",
              "      <td>...</td>\n",
              "      <td>...</td>\n",
              "      <td>...</td>\n",
              "      <td>...</td>\n",
              "      <td>...</td>\n",
              "      <td>...</td>\n",
              "      <td>...</td>\n",
              "      <td>...</td>\n",
              "    </tr>\n",
              "    <tr>\n",
              "      <th>2353</th>\n",
              "      <td>Mesa de comedor</td>\n",
              "      <td>Muebles</td>\n",
              "      <td>227700.0</td>\n",
              "      <td>12600.0</td>\n",
              "      <td>12/02/2020</td>\n",
              "      <td>Camila Rivera</td>\n",
              "      <td>Medellín</td>\n",
              "      <td>5</td>\n",
              "      <td>Tarjeta de crédito</td>\n",
              "      <td>1</td>\n",
              "      <td>6.25184</td>\n",
              "      <td>-75.56359</td>\n",
              "    </tr>\n",
              "    <tr>\n",
              "      <th>2354</th>\n",
              "      <td>Silla de oficina</td>\n",
              "      <td>Muebles</td>\n",
              "      <td>342000.0</td>\n",
              "      <td>18600.0</td>\n",
              "      <td>17/05/2022</td>\n",
              "      <td>Felipe Santos</td>\n",
              "      <td>Bucaramanga</td>\n",
              "      <td>5</td>\n",
              "      <td>Tarjeta de crédito</td>\n",
              "      <td>3</td>\n",
              "      <td>7.12539</td>\n",
              "      <td>-73.11980</td>\n",
              "    </tr>\n",
              "    <tr>\n",
              "      <th>2355</th>\n",
              "      <td>Vaso térmico</td>\n",
              "      <td>Deportes y diversión</td>\n",
              "      <td>36700.0</td>\n",
              "      <td>2400.0</td>\n",
              "      <td>03/05/2022</td>\n",
              "      <td>Camila Rivera</td>\n",
              "      <td>Bogotá</td>\n",
              "      <td>5</td>\n",
              "      <td>Tarjeta de crédito</td>\n",
              "      <td>1</td>\n",
              "      <td>4.60971</td>\n",
              "      <td>-74.08175</td>\n",
              "    </tr>\n",
              "    <tr>\n",
              "      <th>2356</th>\n",
              "      <td>Set de ollas</td>\n",
              "      <td>Artículos para el hogar</td>\n",
              "      <td>151800.0</td>\n",
              "      <td>8300.0</td>\n",
              "      <td>15/06/2020</td>\n",
              "      <td>Blanca Ramirez</td>\n",
              "      <td>Cali</td>\n",
              "      <td>5</td>\n",
              "      <td>Tarjeta de crédito</td>\n",
              "      <td>1</td>\n",
              "      <td>3.43722</td>\n",
              "      <td>-76.52250</td>\n",
              "    </tr>\n",
              "    <tr>\n",
              "      <th>2357</th>\n",
              "      <td>Cuerda para saltar</td>\n",
              "      <td>Deportes y diversión</td>\n",
              "      <td>11200.0</td>\n",
              "      <td>1300.0</td>\n",
              "      <td>17/11/2021</td>\n",
              "      <td>Felipe Santos</td>\n",
              "      <td>Bogotá</td>\n",
              "      <td>5</td>\n",
              "      <td>Tarjeta de crédito</td>\n",
              "      <td>1</td>\n",
              "      <td>4.60971</td>\n",
              "      <td>-74.08175</td>\n",
              "    </tr>\n",
              "  </tbody>\n",
              "</table>\n",
              "<p>2358 rows × 12 columns</p>\n",
              "</div>"
            ],
            "text/plain": [
              "                 Producto   Categoría del Producto     Precio  Costo de envío  \\\n",
              "0            Lavavajillas        Electrodomésticos  1084800.0         56000.0   \n",
              "1                Cama box                  Muebles   473800.0         25400.0   \n",
              "2     Balón de baloncesto     Deportes y diversión    23700.0             0.0   \n",
              "3     Modelado predictivo                   Libros    57700.0          1300.0   \n",
              "4             Auriculares             Electrónicos   138900.0          5600.0   \n",
              "...                   ...                      ...        ...             ...   \n",
              "2353      Mesa de comedor                  Muebles   227700.0         12600.0   \n",
              "2354     Silla de oficina                  Muebles   342000.0         18600.0   \n",
              "2355         Vaso térmico     Deportes y diversión    36700.0          2400.0   \n",
              "2356         Set de ollas  Artículos para el hogar   151800.0          8300.0   \n",
              "2357   Cuerda para saltar     Deportes y diversión    11200.0          1300.0   \n",
              "\n",
              "     Fecha de Compra         Vendedor Lugar de Compra  Calificación  \\\n",
              "0         11/11/2022    Rafael Acosta          Bogotá             4   \n",
              "1         03/01/2020  Izabela de León          Cúcuta             5   \n",
              "2         25/12/2022    Maria Alfonso        Medellín             5   \n",
              "3         23/11/2021    Lucas Olivera        Medellín             3   \n",
              "4         25/04/2022   Blanca Ramirez          Bogotá             4   \n",
              "...              ...              ...             ...           ...   \n",
              "2353      12/02/2020    Camila Rivera        Medellín             5   \n",
              "2354      17/05/2022    Felipe Santos     Bucaramanga             5   \n",
              "2355      03/05/2022    Camila Rivera          Bogotá             5   \n",
              "2356      15/06/2020   Blanca Ramirez            Cali             5   \n",
              "2357      17/11/2021    Felipe Santos          Bogotá             5   \n",
              "\n",
              "          Método de pago  Cantidad de cuotas      lat       lon  \n",
              "0     Tarjeta de crédito                   3  4.60971 -74.08175  \n",
              "1     Tarjeta de crédito                   2  7.89391 -72.50782  \n",
              "2                  Nequi                   1  6.25184 -75.56359  \n",
              "3                  Nequi                   1  6.25184 -75.56359  \n",
              "4     Tarjeta de crédito                   7  4.60971 -74.08175  \n",
              "...                  ...                 ...      ...       ...  \n",
              "2353  Tarjeta de crédito                   1  6.25184 -75.56359  \n",
              "2354  Tarjeta de crédito                   3  7.12539 -73.11980  \n",
              "2355  Tarjeta de crédito                   1  4.60971 -74.08175  \n",
              "2356  Tarjeta de crédito                   1  3.43722 -76.52250  \n",
              "2357  Tarjeta de crédito                   1  4.60971 -74.08175  \n",
              "\n",
              "[2358 rows x 12 columns]"
            ]
          },
          "execution_count": 5,
          "metadata": {},
          "output_type": "execute_result"
        }
      ],
      "source": [
        "tienda4"
      ]
    },
    {
      "cell_type": "markdown",
      "metadata": {
        "id": "X62IW3KFUIYm"
      },
      "source": [
        "# **1. Análisis de facturación**\n",
        "\n"
      ]
    },
    {
      "cell_type": "markdown",
      "metadata": {
        "id": "CfUu3VC07XMj"
      },
      "source": [
        "# **Total de las Ventas por Tienda y por años**"
      ]
    },
    {
      "cell_type": "code",
      "execution_count": 6,
      "metadata": {
        "colab": {
          "base_uri": "https://localhost:8080/"
        },
        "id": "njQEnPl2zYbd",
        "outputId": "823bb12a-cc3f-4ab4-ef1a-20a33090479d"
      },
      "outputs": [
        {
          "name": "stdout",
          "output_type": "stream",
          "text": [
            "Total de ventas de cada tienda por año:\n",
            "      Tienda   Año       Precio\n",
            "0   Tienda 1  2020  368933200.0\n",
            "1   Tienda 1  2021  362120800.0\n",
            "2   Tienda 1  2022  316565600.0\n",
            "3   Tienda 1  2023  103260800.0\n",
            "4   Tienda 2  2020  320466600.0\n",
            "5   Tienda 2  2021  351215500.0\n",
            "6   Tienda 2  2022  358226500.0\n",
            "7   Tienda 2  2023   86434900.0\n",
            "8   Tienda 3  2020  321707500.0\n",
            "9   Tienda 3  2021  362954400.0\n",
            "10  Tienda 3  2022  350438300.0\n",
            "11  Tienda 3  2023   62919400.0\n",
            "12  Tienda 4  2020  330847700.0\n",
            "13  Tienda 4  2021  347823600.0\n",
            "14  Tienda 4  2022  302221500.0\n",
            "15  Tienda 4  2023   57482900.0\n"
          ]
        },
        {
          "name": "stderr",
          "output_type": "stream",
          "text": [
            "C:\\Users\\Edison Sanchez\\AppData\\Local\\Temp\\ipykernel_10316\\4159372776.py:13: UserWarning: Parsing dates in %d/%m/%Y format when dayfirst=False (the default) was specified. Pass `dayfirst=True` or specify a format to silence this warning.\n",
            "  all_tiendas['Fecha de Compra'] = pd.to_datetime(all_tiendas['Fecha de Compra'])\n"
          ]
        }
      ],
      "source": [
        "# TOTAL DE VENTAS DE CADA TIENDA POR AÑO\n",
        "\n",
        "# Adiciona una columna 'Tienda' a cada DataFrame para identificar la tienda\n",
        "tienda['Tienda'] = 'Tienda 1'\n",
        "tienda2['Tienda'] = 'Tienda 2'\n",
        "tienda3['Tienda'] = 'Tienda 3'\n",
        "tienda4['Tienda'] = 'Tienda 4'\n",
        "\n",
        "# Concatenar todos los Dataframes\n",
        "all_tiendas = pd.concat([tienda, tienda2, tienda3, tienda4])\n",
        "\n",
        "# Convierte 'Fecha' en fecha y hora y extrae el año\n",
        "all_tiendas['Fecha de Compra'] = pd.to_datetime(all_tiendas['Fecha de Compra'])\n",
        "all_tiendas['Año'] = all_tiendas['Fecha de Compra'].dt.year\n",
        "\n",
        "# Agrupa por 'Tienda' y 'Año' y suma el 'Precio'\n",
        "ventas_por_tienda_año = all_tiendas.groupby(['Tienda', 'Año'])['Precio'].sum().reset_index()\n",
        "\n",
        "print(\"Total de ventas de cada tienda por año:\")\n",
        "print(ventas_por_tienda_año)"
      ]
    },
    {
      "cell_type": "markdown",
      "metadata": {
        "id": "9sEHqQ-ZLvNP"
      },
      "source": [
        "# **La tienda 1 registra por año un mayor valor de ventas comparado con las demás tiendas**"
      ]
    },
    {
      "cell_type": "markdown",
      "metadata": {
        "id": "64eA4VLe71PL"
      },
      "source": [
        "# **Total Facturado por Tienda entre los años 2020 a 2023**"
      ]
    },
    {
      "cell_type": "code",
      "execution_count": 8,
      "metadata": {
        "colab": {
          "base_uri": "https://localhost:8080/"
        },
        "id": "xykobSftV64I",
        "outputId": "85d36d35-6728-4833-bbd0-abb874d8a87f"
      },
      "outputs": [
        {
          "name": "stdout",
          "output_type": "stream",
          "text": [
            "El total de facturación de la tienda 1 es: 1150880400.0\n",
            "El total de facturación de la tienda 2 es: 1116343500.0\n",
            "El total de facturación de la tienda 3 es: 1098019600.0\n",
            "El total de facturación de la tienda 4 es: 1038375700.0\n"
          ]
        }
      ],
      "source": [
        "# FACTURACION TOTAL TIENDA 1\n",
        "total_facturado_tienda1 = tienda['Precio'].sum()\n",
        "print(\"El total de facturación de la tienda 1 es:\", total_facturado_tienda1 )\n",
        "\n",
        "# FACTURACION TOTAL TIENDA 2\n",
        "total_facturado_tienda2 = tienda2['Precio'].sum()\n",
        "print(\"El total de facturación de la tienda 2 es:\", total_facturado_tienda2 )\n",
        "\n",
        "# FACTURACION TOTAL TIENDA 3\n",
        "total_facturado_tienda3 = tienda3['Precio'].sum()\n",
        "print(\"El total de facturación de la tienda 3 es:\", total_facturado_tienda3 )\n",
        "\n",
        "# FACTURACION TOTAL TIENDA 4\n",
        "total_facturado_tienda4 = tienda4['Precio'].sum()\n",
        "print(\"El total de facturación de la tienda 4 es:\", total_facturado_tienda4 )"
      ]
    },
    {
      "cell_type": "markdown",
      "metadata": {
        "id": "wBEeZnZc-wcG"
      },
      "source": [
        "# **La Tienda que Mas Facturo o Vendio es la Tienda 1**"
      ]
    },
    {
      "cell_type": "code",
      "execution_count": 9,
      "metadata": {
        "colab": {
          "base_uri": "https://localhost:8080/"
        },
        "id": "KDyr8E71V3m-",
        "outputId": "54c470ab-b581-43b5-cba9-9f43214e2fe1"
      },
      "outputs": [
        {
          "name": "stdout",
          "output_type": "stream",
          "text": [
            "La tienda que más facturó es la Tienda 1 con un total de $ 1.150.880.400.00\n"
          ]
        }
      ],
      "source": [
        "# LA TIENDA QUE MAS VENDIO\n",
        "\n",
        "facturacion_tiendas = {\n",
        "    \"Tienda 1\": total_facturado_tienda1,\n",
        "    \"Tienda 2\": total_facturado_tienda2,\n",
        "    \"Tienda 3\": total_facturado_tienda3,\n",
        "    \"Tienda 4\": total_facturado_tienda4,\n",
        "}\n",
        "\n",
        "tienda_mas_facturo = max(facturacion_tiendas, key=facturacion_tiendas.get)\n",
        "monto_mas_facturado = facturacion_tiendas[tienda_mas_facturo]\n",
        "\n",
        "print(f\"La tienda que más facturó es la {tienda_mas_facturo} con un total de $ {monto_mas_facturado:,.2f}\".replace(',', '.'))\n"
      ]
    },
    {
      "cell_type": "markdown",
      "metadata": {
        "id": "9a42487M9zm7"
      },
      "source": [
        "# **La Tienda que Menos Facturo o Vendio es la Tienda 4**"
      ]
    },
    {
      "cell_type": "code",
      "execution_count": 10,
      "metadata": {
        "colab": {
          "base_uri": "https://localhost:8080/"
        },
        "id": "1nz-1-Z_Nd05",
        "outputId": "27ccea16-fc8c-4ad8-911d-fcd0a07eca3a"
      },
      "outputs": [
        {
          "name": "stdout",
          "output_type": "stream",
          "text": [
            "La tienda que menos facturó es la Tienda 4 con un total de $ 1.038.375.700.00\n"
          ]
        }
      ],
      "source": [
        "# LA TIENDA QUE MENOS VENDIO\n",
        "\n",
        "facturacion_tiendas = {\n",
        "    \"Tienda 1\": total_facturado_tienda1,\n",
        "    \"Tienda 2\": total_facturado_tienda2,\n",
        "    \"Tienda 3\": total_facturado_tienda3,\n",
        "    \"Tienda 4\": total_facturado_tienda4,\n",
        "}\n",
        "\n",
        "tienda_menos_facturo = min(facturacion_tiendas, key=facturacion_tiendas.get)\n",
        "monto_menos_facturado = facturacion_tiendas[tienda_menos_facturo]\n",
        "\n",
        "print(f\"La tienda que menos facturó es la {tienda_menos_facturo} con un total de $ {monto_menos_facturado:,.2f}\".replace(',', '.'))"
      ]
    },
    {
      "cell_type": "markdown",
      "metadata": {
        "id": "2V_vcAPzWZmR"
      },
      "source": [
        "# **2. Ventas por categoría**"
      ]
    },
    {
      "cell_type": "markdown",
      "metadata": {
        "id": "Q-Aof9zG__YS"
      },
      "source": [
        "# **Producto más popular por tienda (basado en la categoría con mayores ventas)**"
      ]
    },
    {
      "cell_type": "code",
      "execution_count": 12,
      "metadata": {
        "colab": {
          "base_uri": "https://localhost:8080/"
        },
        "id": "pR_-Hbdxend5",
        "outputId": "8cde70b7-abe3-438b-dc8b-52a06b67cb5a"
      },
      "outputs": [
        {
          "name": "stdout",
          "output_type": "stream",
          "text": [
            "Ventas por categoría en Tienda 1:\n",
            " Categoría del Producto\n",
            "Electrónicos               429493500.0\n",
            "Electrodomésticos          363685200.0\n",
            "Muebles                    187633700.0\n",
            "Instrumentos musicales      91299000.0\n",
            "Deportes y diversión        39290000.0\n",
            "Juguetes                    17995700.0\n",
            "Artículos para el hogar     12698400.0\n",
            "Libros                       8784900.0\n",
            "Name: Precio, dtype: float64\n",
            "\n",
            "Ventas por categoría en Tienda 2:\n",
            " Categoría del Producto\n",
            "Electrónicos               410831100.0\n",
            "Electrodomésticos          348567800.0\n",
            "Muebles                    176426300.0\n",
            "Instrumentos musicales     104990300.0\n",
            "Deportes y diversión        34744500.0\n",
            "Juguetes                    15945400.0\n",
            "Artículos para el hogar     14746900.0\n",
            "Libros                      10091200.0\n",
            "Name: Precio, dtype: float64\n",
            "\n",
            "Ventas por categoría en Tienda 3:\n",
            " Categoría del Producto\n",
            "Electrónicos               410775800.0\n",
            "Electrodomésticos          329237900.0\n",
            "Muebles                    201072100.0\n",
            "Instrumentos musicales      77380900.0\n",
            "Deportes y diversión        35593100.0\n",
            "Juguetes                    19401100.0\n",
            "Artículos para el hogar     15060000.0\n",
            "Libros                       9498700.0\n",
            "Name: Precio, dtype: float64\n",
            "\n",
            "Ventas por categoría en Tienda 4:\n",
            " Categoría del Producto\n",
            "Electrónicos               409476100.0\n",
            "Electrodomésticos          283260200.0\n",
            "Muebles                    192528900.0\n",
            "Instrumentos musicales      75102400.0\n",
            "Deportes y diversión        33350100.0\n",
            "Juguetes                    20262200.0\n",
            "Artículos para el hogar     15074500.0\n",
            "Libros                       9321300.0\n",
            "Name: Precio, dtype: float64\n",
            "\n",
            "Categoría de producto más popular por tienda:\n",
            "Tienda 1: Electrónicos\n",
            "Tienda 2: Electrónicos\n",
            "Tienda 3: Electrónicos\n",
            "Tienda 4: Electrónicos\n"
          ]
        }
      ],
      "source": [
        "# VENTAS POR CATEGORIA DE PRODUCTOS MAS POPULARES POR TIENDA\n",
        "\n",
        "# Tienda 1\n",
        "ventas_por_categoria_tienda1 = tienda.groupby('Categoría del Producto')['Precio'].sum().sort_values(ascending=False)\n",
        "print(\"Ventas por categoría en Tienda 1:\\n\", ventas_por_categoria_tienda1)\n",
        "\n",
        "# Tienda 2\n",
        "ventas_por_categoria_tienda2 = tienda2.groupby('Categoría del Producto')['Precio'].sum().sort_values(ascending=False)\n",
        "print(\"\\nVentas por categoría en Tienda 2:\\n\", ventas_por_categoria_tienda2)\n",
        "\n",
        "# Tienda 3\n",
        "ventas_por_categoria_tienda3 = tienda3.groupby('Categoría del Producto')['Precio'].sum().sort_values(ascending=False)\n",
        "print(\"\\nVentas por categoría en Tienda 3:\\n\", ventas_por_categoria_tienda3)\n",
        "\n",
        "# Tienda 4\n",
        "ventas_por_categoria_tienda4 = tienda4.groupby('Categoría del Producto')['Precio'].sum().sort_values(ascending=False)\n",
        "print(\"\\nVentas por categoría en Tienda 4:\\n\", ventas_por_categoria_tienda4)\n",
        "\n",
        "# Producto más popular por tienda (basado en la categoría con mayores ventas)\n",
        "print(\"\\nCategoría de producto más popular por tienda:\")\n",
        "print(\"Tienda 1:\", ventas_por_categoria_tienda1.index[0])\n",
        "print(\"Tienda 2:\", ventas_por_categoria_tienda2.index[0])\n",
        "print(\"Tienda 3:\", ventas_por_categoria_tienda3.index[0])\n",
        "print(\"Tienda 4:\", ventas_por_categoria_tienda4.index[0])"
      ]
    },
    {
      "cell_type": "markdown",
      "metadata": {
        "id": "u7rA8UGIK0-d"
      },
      "source": [
        "# **La categoria más Popular o vendida por Tienda son los productos Electrónicos**"
      ]
    },
    {
      "cell_type": "markdown",
      "metadata": {
        "id": "Rq6tU_xSY3jk"
      },
      "source": [
        "# **3. Calificación promedio de la tienda**\n"
      ]
    },
    {
      "cell_type": "markdown",
      "metadata": {
        "id": "zh966jY_JThE"
      },
      "source": []
    },
    {
      "cell_type": "code",
      "execution_count": 14,
      "metadata": {
        "colab": {
          "base_uri": "https://localhost:8080/"
        },
        "id": "bh3jjjJwY5MU",
        "outputId": "12a9df9b-d822-4cc3-e361-ced7969b01c1"
      },
      "outputs": [
        {
          "name": "stdout",
          "output_type": "stream",
          "text": [
            "Calificación promedio de la Tienda 1: 3.98\n",
            "Calificación promedio de la Tienda 2: 4.04\n",
            "Calificación promedio de la Tienda 3: 4.05\n",
            "Calificación promedio de la Tienda 4: 4.00\n"
          ]
        }
      ],
      "source": [
        "# Promedio de calificación de los clientes por tienda\n",
        "\n",
        "# Calificación promedio de la tienda\n",
        "calificacion_promedio_tienda1 = tienda['Calificación'].mean()\n",
        "calificacion_promedio_tienda2 = tienda2['Calificación'].mean()\n",
        "calificacion_promedio_tienda3 = tienda3['Calificación'].mean()\n",
        "calificacion_promedio_tienda4 = tienda4['Calificación'].mean()\n",
        "\n",
        "print(f\"Calificación promedio de la Tienda 1: {calificacion_promedio_tienda1:.2f}\")\n",
        "print(f\"Calificación promedio de la Tienda 2: {calificacion_promedio_tienda2:.2f}\")\n",
        "print(f\"Calificación promedio de la Tienda 3: {calificacion_promedio_tienda3:.2f}\")\n",
        "print(f\"Calificación promedio de la Tienda 4: {calificacion_promedio_tienda4:.2f}\")"
      ]
    },
    {
      "cell_type": "markdown",
      "metadata": {
        "id": "ScoqbnC1Jg4O"
      },
      "source": [
        "# **La Tienda con mayor promedio de calificación por los Clientes; es la Tienda 3 con (4.05) y la de Menor calificación es la Tienda 1 con (3.98)**"
      ]
    },
    {
      "cell_type": "code",
      "execution_count": null,
      "metadata": {
        "id": "I0KkjPoTY88F"
      },
      "outputs": [],
      "source": []
    },
    {
      "cell_type": "markdown",
      "metadata": {
        "id": "DmNp1KPBZCm-"
      },
      "source": [
        "# **4. Productos más y menos vendidos**"
      ]
    },
    {
      "cell_type": "markdown",
      "metadata": {
        "id": "-wzTRlYGFBA6"
      },
      "source": [
        "# **Los cinco Productos más vendidos por Tienda**"
      ]
    },
    {
      "cell_type": "code",
      "execution_count": 16,
      "metadata": {
        "colab": {
          "base_uri": "https://localhost:8080/"
        },
        "id": "0Sw3sd4IZIGW",
        "outputId": "23d749b9-4b12-41ef-eb94-6dad7d72cb35"
      },
      "outputs": [
        {
          "name": "stdout",
          "output_type": "stream",
          "text": [
            "\n",
            "Productos más vendidos por unidad en la Tienda 1:\n",
            "Producto\n",
            "Microondas          60\n",
            "TV LED UHD 4K       60\n",
            "Armario             60\n",
            "Secadora de ropa    58\n",
            "Mesa de noche       56\n",
            "Name: count, dtype: int64\n",
            "\n",
            "Productos más vendidos por unidad en la Tienda 2:\n",
            "Producto\n",
            "Iniciando en programación    65\n",
            "Microondas                   62\n",
            "Batería                      61\n",
            "Guitarra acústica            58\n",
            "Pandereta                    58\n",
            "Name: count, dtype: int64\n",
            "\n",
            "Productos más vendidos por unidad en la Tienda 3:\n",
            "Producto\n",
            "Kit de bancas      57\n",
            "Mesa de comedor    56\n",
            "Cama king          56\n",
            "Set de ollas       55\n",
            "Mesa de noche      55\n",
            "Name: count, dtype: int64\n",
            "\n",
            "Productos más vendidos por unidad en la Tienda 4:\n",
            "Producto\n",
            "Cama box                     62\n",
            "Cubertería                   59\n",
            "Dashboards con Power BI      56\n",
            "Cama king                    56\n",
            "Carrito de control remoto    55\n",
            "Name: count, dtype: int64\n"
          ]
        }
      ],
      "source": [
        "# LOS CINCO PRODUCTOS QUE MAS SE VENDEN POR TIENDA\n",
        "\n",
        "# Función para encontrar los productos más vendidos por tienda\n",
        "def productos_mas_vendidos(df, nombre_tienda):\n",
        "    # Contar la frecuencia de cada producto\n",
        "    conteo_productos = df['Producto'].value_counts()\n",
        "\n",
        "    # Mostrar los productos más vendidos\n",
        "    print(f\"\\nProductos más vendidos por unidad en la {nombre_tienda}:\")\n",
        "    print(conteo_productos.head(5)) # Mostrar los primeros 5 productos más vendidos\n",
        "\n",
        "productos_mas_vendidos(tienda, \"Tienda 1\")\n",
        "productos_mas_vendidos(tienda2, \"Tienda 2\")\n",
        "productos_mas_vendidos(tienda3, \"Tienda 3\")\n",
        "productos_mas_vendidos(tienda4, \"Tienda 4\")"
      ]
    },
    {
      "cell_type": "markdown",
      "metadata": {
        "id": "LssKlEXHFQKe"
      },
      "source": [
        "# **Los cinco Productos Menos vendidos por Tienda**"
      ]
    },
    {
      "cell_type": "code",
      "execution_count": 17,
      "metadata": {
        "colab": {
          "base_uri": "https://localhost:8080/"
        },
        "id": "G2mG60WKE52l",
        "outputId": "beee9ee7-724c-4a54-ef81-01ead26517c7"
      },
      "outputs": [
        {
          "name": "stdout",
          "output_type": "stream",
          "text": [
            "\n",
            "Productos menos vendidos por unudad en la Tienda 1:\n",
            "Producto\n",
            "Ciencia de datos con Python    39\n",
            "Pandereta                      36\n",
            "Olla de presión                35\n",
            "Auriculares con micrófono      33\n",
            "Celular ABXY                   33\n",
            "Name: count, dtype: int64\n",
            "\n",
            "Productos menos vendidos por unudad en la Tienda 2:\n",
            "Producto\n",
            "Auriculares        37\n",
            "Sillón             35\n",
            "Mesa de comedor    34\n",
            "Impresora          34\n",
            "Juego de mesa      32\n",
            "Name: count, dtype: int64\n",
            "\n",
            "Productos menos vendidos por unudad en la Tienda 3:\n",
            "Producto\n",
            "Guitarra eléctrica         38\n",
            "Set de vasos               36\n",
            "Mochila                    36\n",
            "Microondas                 36\n",
            "Bloques de construcción    35\n",
            "Name: count, dtype: int64\n",
            "\n",
            "Productos menos vendidos por unudad en la Tienda 4:\n",
            "Producto\n",
            "Refrigerador                   38\n",
            "Ciencia de datos con Python    38\n",
            "Guitarra acústica              37\n",
            "Armario                        34\n",
            "Guitarra eléctrica             33\n",
            "Name: count, dtype: int64\n"
          ]
        }
      ],
      "source": [
        "# LOS CINCO PRODUCTOS QUE MENOS SE VENDEN POR TIENDA\n",
        "\n",
        "# Función para encontrar los productos menos vendidos por tienda\n",
        "def productos_menos_vendidos(df, nombre_tienda):\n",
        "    # Contar la frecuencia de cada producto\n",
        "    conteo_productos = df['Producto'].value_counts()\n",
        "\n",
        "    # Mostrar los productos menos vendidos\n",
        "    print(f\"\\nProductos menos vendidos por unudad en la {nombre_tienda}:\")\n",
        "    print(conteo_productos.tail(5)) # Mostrar los últimos 5 productos menos vendidos\n",
        "\n",
        "productos_menos_vendidos(tienda, \"Tienda 1\")\n",
        "productos_menos_vendidos(tienda2, \"Tienda 2\")\n",
        "productos_menos_vendidos(tienda3, \"Tienda 3\")\n",
        "productos_menos_vendidos(tienda4, \"Tienda 4\")"
      ]
    },
    {
      "cell_type": "markdown",
      "metadata": {
        "id": "Fl0cGi3bZKqU"
      },
      "source": [
        "# **5. Envío promedio por tienda**"
      ]
    },
    {
      "cell_type": "code",
      "execution_count": 18,
      "metadata": {
        "colab": {
          "base_uri": "https://localhost:8080/"
        },
        "id": "S2JeaCykZNy9",
        "outputId": "4c482b08-4119-47cd-8848-d13c92f009e2"
      },
      "outputs": [
        {
          "name": "stdout",
          "output_type": "stream",
          "text": [
            "Costo promedio de envío de la Tienda 1: $26.019\n",
            "Costo promedio de envío de la Tienda 2: $25.216\n",
            "Costo promedio de envío de la Tienda 3: $24.806\n",
            "Costo promedio de envío de la Tienda 4: $23.459\n"
          ]
        }
      ],
      "source": [
        "# EL COSTO PROMEDIO DE ENVIO POR TIENDA\n",
        "\n",
        "costo_envio_promedio_tienda1 = tienda['Costo de envío'].mean()\n",
        "costo_envio_promedio_tienda2 = tienda2['Costo de envío'].mean()\n",
        "costo_envio_promedio_tienda3 = tienda3['Costo de envío'].mean()\n",
        "costo_envio_promedio_tienda4 = tienda4['Costo de envío'].mean()\n",
        "\n",
        "print(f\"Costo promedio de envío de la Tienda 1: ${costo_envio_promedio_tienda1:,.0f}\".replace(',', '.'))\n",
        "print(f\"Costo promedio de envío de la Tienda 2: ${costo_envio_promedio_tienda2:,.0f}\".replace(',', '.'))\n",
        "print(f\"Costo promedio de envío de la Tienda 3: ${costo_envio_promedio_tienda3:,.0f}\".replace(',', '.'))\n",
        "print(f\"Costo promedio de envío de la Tienda 4: ${costo_envio_promedio_tienda4:,.0f}\".replace(',', '.'))"
      ]
    },
    {
      "cell_type": "markdown",
      "metadata": {
        "id": "Tu6ihUfaPC2t"
      },
      "source": [
        "# **La tienda con mayor costo promedio de envío es la tienda 1 con $26.019 y La Tienda con menor costo promedio de envío es la tienda 4 con 23.459**"
      ]
    },
    {
      "cell_type": "code",
      "execution_count": null,
      "metadata": {
        "id": "0tSdCie9ZQlt"
      },
      "outputs": [],
      "source": []
    },
    {
      "cell_type": "markdown",
      "metadata": {
        "id": "sTsPcuiZR4K8"
      },
      "source": [
        "Analisis de Datos.\n",
        "\n",
        "- De los datos extraidos de los dataframes se observa que la tienda que mayor ventas realizo durante los año 2020 al 2023 es la tienda 1; con un valor total del $1.150.880.400,00 pesos y la de menor valor en ventas, fue la tienda 4 con un total de 1.038.375.700,00 pesos.\n",
        "\n",
        "- Teniendo encuenta que la tienda 4 tiene menor valor facturado por ventas en el periodo de analisis. Las cegorias de Juguetes y Articulos para Hogar de esta tienda presentan un total de ventas mayor que las demas tiendas.\n",
        "\n",
        "- En todas las tiendas, la categoria mas vendida fue la de productos eléctornicos.\n",
        "\n",
        "- La Tienda con mayor promedio de calificación por los Clientes; es la Tienda 3 con (4.05) y la de Menor calificación es la Tienda 1 con (3.98).\n",
        "\n",
        "\n",
        "- Los productos mas vendidos son:\n",
        "  Microondas con 122 unidades en las tiendas 1 y 3\n",
        "  Cama King  con 112 unidades en las tiendas 3 y 4\n",
        "  Mesa de Noche con 111 unidades en las tiendas 1 y 3\n",
        "\n",
        "Siendo asi la tienda con mayor participación en la venta de los productos mas vendidos es la tienda 3, seguida de la tienda 1.\n",
        "\n",
        "- Los productos menos vendidos son:\n",
        "  Libro de ciencia datos con Python con 77 unidades en las tiendas 1 y 4\n",
        "  Guitarra eléctrica con 71 unidades en las tiendas 3 y 4\n",
        "  Juego de Mesa con 32 unidades en la tienda 2\n",
        "\n",
        "La tienda con mayor representación de productos menos vendidos es la tienda 4.\n",
        "\n",
        "- La tienda con mayor costo promedio de envío es la tienda 1 con $26.019 pesos y La Tienda con menor costo promedio de envío es la tienda 4 con 23.459 pesos\n",
        "\n",
        "\n",
        "\n"
      ]
    },
    {
      "cell_type": "markdown",
      "metadata": {
        "id": "aTm-AQOaieC5"
      },
      "source": [
        "# **Teniendo en cuenta lo anterior se concluye que la tienda con menor participación en ventas, productos menos vendidos y menor promedio de envio es la tienda 4. se aconseja vender la tienda 4. Para invertir en un nuevo proyecto o fortalecer las otras tiendas en sus estrategias de ventas, atención al cliente y la inovación de nuevos productos.**"
      ]
    }
  ],
  "metadata": {
    "colab": {
      "provenance": []
    },
    "kernelspec": {
      "display_name": "Python 3",
      "name": "python3"
    },
    "language_info": {
      "codemirror_mode": {
        "name": "ipython",
        "version": 3
      },
      "file_extension": ".py",
      "mimetype": "text/x-python",
      "name": "python",
      "nbconvert_exporter": "python",
      "pygments_lexer": "ipython3",
      "version": "3.10.11"
    }
  },
  "nbformat": 4,
  "nbformat_minor": 0
}
